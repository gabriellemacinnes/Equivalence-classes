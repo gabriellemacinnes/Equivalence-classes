{
  "nbformat": 4,
  "nbformat_minor": 0,
  "metadata": {
    "colab": {
      "provenance": [],
      "authorship_tag": "ABX9TyN8lpEVKPMYEKUbkhZUXre/",
      "include_colab_link": true
    },
    "kernelspec": {
      "name": "python3",
      "display_name": "Python 3"
    },
    "language_info": {
      "name": "python"
    }
  },
  "cells": [
    {
      "cell_type": "markdown",
      "metadata": {
        "id": "view-in-github",
        "colab_type": "text"
      },
      "source": [
        "<a href=\"https://colab.research.google.com/github/gabriellemacinnes/Equivalence-classes/blob/main/equivalence_classes.ipynb\" target=\"_parent\"><img src=\"https://colab.research.google.com/assets/colab-badge.svg\" alt=\"Open In Colab\"/></a>"
      ]
    },
    {
      "cell_type": "code",
      "source": [
        "import pandas as pd"
      ],
      "metadata": {
        "id": "Q4Uqx_6goCLq"
      },
      "execution_count": null,
      "outputs": []
    },
    {
      "cell_type": "code",
      "execution_count": null,
      "metadata": {
        "id": "_fMsyxixnSwM"
      },
      "outputs": [],
      "source": [
        "'''\n",
        "data=pd.read_table('https://raw.githubusercontent.com/dwyl/english-words/master/words_alpha.txt', delimiter = ' ')\n",
        "df = data[data['a'].str.len() == 3]\n",
        "data\n",
        "'''"
      ]
    },
    {
      "cell_type": "code",
      "source": [
        "data=pd.read_table('sample_data/english3.txt', delimiter = ' ')\n",
        "df = data[data['a'].str.len() == 3]\n",
        "data"
      ],
      "metadata": {
        "colab": {
          "base_uri": "https://localhost:8080/",
          "height": 424
        },
        "id": "7NbhBLl28lJV",
        "outputId": "b7841576-5400-4870-bab3-f496b5399cfc"
      },
      "execution_count": null,
      "outputs": [
        {
          "output_type": "execute_result",
          "data": {
            "text/plain": [
              "                  a\n",
              "0                aa\n",
              "1               aaa\n",
              "2            aachen\n",
              "3          aardvark\n",
              "4         aardvarks\n",
              "...             ...\n",
              "194427  zymotically\n",
              "194428      zymurgy\n",
              "194429       zyrian\n",
              "194430      zyrians\n",
              "194431       zythum\n",
              "\n",
              "[194432 rows x 1 columns]"
            ],
            "text/html": [
              "\n",
              "  <div id=\"df-28e99ba0-5e80-4ce0-9130-16c88af45d63\">\n",
              "    <div class=\"colab-df-container\">\n",
              "      <div>\n",
              "<style scoped>\n",
              "    .dataframe tbody tr th:only-of-type {\n",
              "        vertical-align: middle;\n",
              "    }\n",
              "\n",
              "    .dataframe tbody tr th {\n",
              "        vertical-align: top;\n",
              "    }\n",
              "\n",
              "    .dataframe thead th {\n",
              "        text-align: right;\n",
              "    }\n",
              "</style>\n",
              "<table border=\"1\" class=\"dataframe\">\n",
              "  <thead>\n",
              "    <tr style=\"text-align: right;\">\n",
              "      <th></th>\n",
              "      <th>a</th>\n",
              "    </tr>\n",
              "  </thead>\n",
              "  <tbody>\n",
              "    <tr>\n",
              "      <th>0</th>\n",
              "      <td>aa</td>\n",
              "    </tr>\n",
              "    <tr>\n",
              "      <th>1</th>\n",
              "      <td>aaa</td>\n",
              "    </tr>\n",
              "    <tr>\n",
              "      <th>2</th>\n",
              "      <td>aachen</td>\n",
              "    </tr>\n",
              "    <tr>\n",
              "      <th>3</th>\n",
              "      <td>aardvark</td>\n",
              "    </tr>\n",
              "    <tr>\n",
              "      <th>4</th>\n",
              "      <td>aardvarks</td>\n",
              "    </tr>\n",
              "    <tr>\n",
              "      <th>...</th>\n",
              "      <td>...</td>\n",
              "    </tr>\n",
              "    <tr>\n",
              "      <th>194427</th>\n",
              "      <td>zymotically</td>\n",
              "    </tr>\n",
              "    <tr>\n",
              "      <th>194428</th>\n",
              "      <td>zymurgy</td>\n",
              "    </tr>\n",
              "    <tr>\n",
              "      <th>194429</th>\n",
              "      <td>zyrian</td>\n",
              "    </tr>\n",
              "    <tr>\n",
              "      <th>194430</th>\n",
              "      <td>zyrians</td>\n",
              "    </tr>\n",
              "    <tr>\n",
              "      <th>194431</th>\n",
              "      <td>zythum</td>\n",
              "    </tr>\n",
              "  </tbody>\n",
              "</table>\n",
              "<p>194432 rows × 1 columns</p>\n",
              "</div>\n",
              "      <button class=\"colab-df-convert\" onclick=\"convertToInteractive('df-28e99ba0-5e80-4ce0-9130-16c88af45d63')\"\n",
              "              title=\"Convert this dataframe to an interactive table.\"\n",
              "              style=\"display:none;\">\n",
              "        \n",
              "  <svg xmlns=\"http://www.w3.org/2000/svg\" height=\"24px\"viewBox=\"0 0 24 24\"\n",
              "       width=\"24px\">\n",
              "    <path d=\"M0 0h24v24H0V0z\" fill=\"none\"/>\n",
              "    <path d=\"M18.56 5.44l.94 2.06.94-2.06 2.06-.94-2.06-.94-.94-2.06-.94 2.06-2.06.94zm-11 1L8.5 8.5l.94-2.06 2.06-.94-2.06-.94L8.5 2.5l-.94 2.06-2.06.94zm10 10l.94 2.06.94-2.06 2.06-.94-2.06-.94-.94-2.06-.94 2.06-2.06.94z\"/><path d=\"M17.41 7.96l-1.37-1.37c-.4-.4-.92-.59-1.43-.59-.52 0-1.04.2-1.43.59L10.3 9.45l-7.72 7.72c-.78.78-.78 2.05 0 2.83L4 21.41c.39.39.9.59 1.41.59.51 0 1.02-.2 1.41-.59l7.78-7.78 2.81-2.81c.8-.78.8-2.07 0-2.86zM5.41 20L4 18.59l7.72-7.72 1.47 1.35L5.41 20z\"/>\n",
              "  </svg>\n",
              "      </button>\n",
              "      \n",
              "  <style>\n",
              "    .colab-df-container {\n",
              "      display:flex;\n",
              "      flex-wrap:wrap;\n",
              "      gap: 12px;\n",
              "    }\n",
              "\n",
              "    .colab-df-convert {\n",
              "      background-color: #E8F0FE;\n",
              "      border: none;\n",
              "      border-radius: 50%;\n",
              "      cursor: pointer;\n",
              "      display: none;\n",
              "      fill: #1967D2;\n",
              "      height: 32px;\n",
              "      padding: 0 0 0 0;\n",
              "      width: 32px;\n",
              "    }\n",
              "\n",
              "    .colab-df-convert:hover {\n",
              "      background-color: #E2EBFA;\n",
              "      box-shadow: 0px 1px 2px rgba(60, 64, 67, 0.3), 0px 1px 3px 1px rgba(60, 64, 67, 0.15);\n",
              "      fill: #174EA6;\n",
              "    }\n",
              "\n",
              "    [theme=dark] .colab-df-convert {\n",
              "      background-color: #3B4455;\n",
              "      fill: #D2E3FC;\n",
              "    }\n",
              "\n",
              "    [theme=dark] .colab-df-convert:hover {\n",
              "      background-color: #434B5C;\n",
              "      box-shadow: 0px 1px 3px 1px rgba(0, 0, 0, 0.15);\n",
              "      filter: drop-shadow(0px 1px 2px rgba(0, 0, 0, 0.3));\n",
              "      fill: #FFFFFF;\n",
              "    }\n",
              "  </style>\n",
              "\n",
              "      <script>\n",
              "        const buttonEl =\n",
              "          document.querySelector('#df-28e99ba0-5e80-4ce0-9130-16c88af45d63 button.colab-df-convert');\n",
              "        buttonEl.style.display =\n",
              "          google.colab.kernel.accessAllowed ? 'block' : 'none';\n",
              "\n",
              "        async function convertToInteractive(key) {\n",
              "          const element = document.querySelector('#df-28e99ba0-5e80-4ce0-9130-16c88af45d63');\n",
              "          const dataTable =\n",
              "            await google.colab.kernel.invokeFunction('convertToInteractive',\n",
              "                                                     [key], {});\n",
              "          if (!dataTable) return;\n",
              "\n",
              "          const docLinkHtml = 'Like what you see? Visit the ' +\n",
              "            '<a target=\"_blank\" href=https://colab.research.google.com/notebooks/data_table.ipynb>data table notebook</a>'\n",
              "            + ' to learn more about interactive tables.';\n",
              "          element.innerHTML = '';\n",
              "          dataTable['output_type'] = 'display_data';\n",
              "          await google.colab.output.renderOutput(dataTable, element);\n",
              "          const docLink = document.createElement('div');\n",
              "          docLink.innerHTML = docLinkHtml;\n",
              "          element.appendChild(docLink);\n",
              "        }\n",
              "      </script>\n",
              "    </div>\n",
              "  </div>\n",
              "  "
            ]
          },
          "metadata": {},
          "execution_count": 37
        }
      ]
    },
    {
      "cell_type": "code",
      "source": [
        "alph = ['a', 'b', 'c', 'd', 'e', 'f', 'g', 'h', 'i', 'j', 'k', 'l', 'm', 'n', 'o', 'p', 'q', 'r', 's', 't', 'u', 'v', 'w', 'x', 'y', 'z']\n",
        "ls = [[ [] for i in range(len(alph)) ] for i in range(len(alph))]"
      ],
      "metadata": {
        "id": "AQw_-qEVt9VW"
      },
      "execution_count": null,
      "outputs": []
    },
    {
      "cell_type": "code",
      "source": [
        "for word in df['a']:\n",
        "  first = word[0]\n",
        "  last = word[2]\n",
        "  ls[alph.index(first)][alph.index(last)].append(word)\n",
        "      "
      ],
      "metadata": {
        "id": "wXb85HQiprmk"
      },
      "execution_count": null,
      "outputs": []
    },
    {
      "cell_type": "code",
      "source": [
        "#print(ls[0][0])\n",
        "k = 0\n",
        "for i in ls:\n",
        "  for j in i:\n",
        "    if len(set(j)) == 5:\n",
        "      print(set(j))\n",
        "      k += 1\n",
        "\n",
        "print(k)\n",
        "print(set(ls[0][4]))\n"
      ],
      "metadata": {
        "colab": {
          "base_uri": "https://localhost:8080/"
        },
        "id": "zGeBnqa-5FK7",
        "outputId": "a7d8424f-1dd7-4de7-a96e-b097a3a7acb0"
      },
      "execution_count": null,
      "outputs": [
        {
          "output_type": "stream",
          "name": "stdout",
          "text": [
            "{'bud', 'bod', 'bad', 'bid', 'bed'}\n",
            "{'bug', 'big', 'beg', 'bog', 'bag'}\n",
            "{'ben', 'bon', 'bin', 'bun', 'ban'}\n",
            "{'bos', 'bys', 'bus', 'bas', 'bis'}\n",
            "{'cui', 'chi', 'cbi', 'cri', 'coi'}\n",
            "{'cut', 'cit', 'cat', 'cot', 'cwt'}\n",
            "{'dab', 'deb', 'dob', 'dub', 'dib'}\n",
            "{'dan', 'dun', 'din', 'den', 'don'}\n",
            "{'duo', 'doo', 'dso', 'dzo', 'deo'}\n",
            "{'ein', 'ern', 'eon', 'ean', 'een'}\n",
            "{'fen', 'fin', 'fun', 'fan', 'fon'}\n",
            "{'fir', 'for', 'far', 'fur', 'fer'}\n",
            "{'fay', 'fry', 'fey', 'foy', 'fly'}\n",
            "{'han', 'hen', 'hun', 'hon', 'hin'}\n",
            "{'hut', 'hot', 'het', 'hit', 'hat'}\n",
            "{'ira', 'ida', 'ina', 'ita', 'iba'}\n",
            "{'ice', 'ile', 'ide', 'ike', 'ire'}\n",
            "{'iso', 'ito', 'ilo', 'ibo', 'ido'}\n",
            "{'ids', 'its', 'ios', 'ifs', 'ins'}\n",
            "{'leg', 'lig', 'lag', 'lug', 'log'}\n",
            "{'lis', 'lys', 'las', 'los', 'les'}\n",
            "{'mog', 'mig', 'meg', 'mug', 'mag'}\n",
            "{'mem', 'mom', 'mum', 'mim', 'mam'}\n",
            "{'nob', 'nub', 'nib', 'neb', 'nab'}\n",
            "{'nym', 'nam', 'nom', 'nim', 'nem'}\n",
            "{'nut', 'not', 'net', 'nit', 'nat'}\n",
            "{'oba', 'ova', 'oca', 'ora', 'oda'}\n",
            "{'ped', 'pud', 'pod', 'pad', 'phd'}\n",
            "{'pye', 'poe', 'pie', 'pre', 'pee'}\n",
            "{'pin', 'pan', 'pun', 'pon', 'pen'}\n",
            "{'pop', 'pep', 'pup', 'pip', 'pap'}\n",
            "{'pos', 'pas', 'pps', 'pis', 'pus'}\n",
            "{'ric', 'rac', 'roc', 'rec', 'ruc'}\n",
            "{'rod', 'rad', 'rud', 'rid', 'red'}\n",
            "{'rae', 'rye', 'ree', 'rue', 'roe'}\n",
            "{'rim', 'ram', 'rem', 'rum', 'rom'}\n",
            "{'run', 'rin', 'ren', 'ran', 'ron'}\n",
            "{'rit', 'rut', 'rot', 'rat', 'ret'}\n",
            "{'tom', 'tem', 'tum', 'tim', 'tam'}\n",
            "{'tan', 'ton', 'ten', 'tun', 'tin'}\n",
            "{'tap', 'twp', 'tip', 'tup', 'top'}\n",
            "{'use', 'ute', 'ule', 'ure', 'uke'}\n",
            "{'uri', 'uni', 'uti', 'uzi', 'ubi'}\n",
            "{'uto', 'udo', 'ufo', 'upo', 'uno'}\n",
            "{'wee', 'woe', 'wye', 'wae', 'wie'}\n",
            "{'won', 'win', 'wan', 'wen', 'wyn'}\n",
            "46\n",
            "{'abe', 'are', 'ape', 'ave', 'ace', 'age', 'aye', 'ale', 'ake', 'awe', 'ane', 'ate', 'axe'}\n"
          ]
        }
      ]
    }
  ]
}